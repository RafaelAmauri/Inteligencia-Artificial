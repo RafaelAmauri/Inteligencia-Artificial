{
  "cells": [
    {
      "cell_type": "markdown",
      "metadata": {
        "id": "RxFHdaDQLWsq"
      },
      "source": [
        "# Classificação\n",
        "\n",
        "Adaptado de \"Zero to mastery - Introdução ao Scikit-Learn\": https://github.com/mrdbourke/zero-to-mastery-ml/blob/master/section-2-data-science-and-ml-tools/introduction-to-scikit-learn.ipynb\n",
        "> O tutorial desse link é bastante completo se você quiser explorar mais o scikit-learn. \n",
        "\n",
        "Notas:\n",
        "* Existem muitas soluções para os enunciados a seguir, implemente a sua :)\n",
        "* O código fornecido é apenas uma referência, sinta-se livre pra mexer\n",
        "* As instruções estão nas células textuais e devem ser implementadas na célula de código subsequente.\n",
        "* Buscadores são seu melhor amigo! Na dúvida, procure \"como fazer XYZ no scikit-learn\".\n"
      ]
    },
    {
      "cell_type": "code",
      "execution_count": 1,
      "metadata": {
        "id": "sfNzaSgxLV_F"
      },
      "outputs": [],
      "source": [
        "import pandas as pd\n",
        "import numpy as np\n",
        "import matplotlib.pyplot as plt\n",
        "%matplotlib inline\n",
        "\n",
        "# Modelos\n",
        "from sklearn import svm\n",
        "from sklearn.tree import DecisionTreeClassifier\n",
        "from sklearn.neighbors import KNeighborsClassifier\n",
        "from sklearn.linear_model import LogisticRegression\n",
        "\n",
        "# Funções úteis\n",
        "from sklearn.preprocessing import StandardScaler\n",
        "from sklearn.model_selection import train_test_split\n",
        "from sklearn.metrics import classification_report, confusion_matrix\n",
        "from sklearn.model_selection import GridSearchCV, RandomizedSearchCV\n",
        "\n",
        "plt.style.use('ggplot')\n",
        "np.random.seed(42)"
      ]
    },
    {
      "cell_type": "markdown",
      "metadata": {
        "id": "IAiDpkMudQ_5"
      },
      "source": [
        "## Carregamento de dados\n",
        "\n",
        "A seguir, carregaremos a base de dados que possui atributos anônimos de cerca de 300 pacientes, cujo objetivo é uma classificação binária indicando a presença de um problema cardíaco naquele paciente (1: Sim, 0: Não)."
      ]
    },
    {
      "cell_type": "code",
      "execution_count": 2,
      "metadata": {
        "colab": {
          "base_uri": "https://localhost:8080/",
          "height": 206
        },
        "id": "qaeVkhM9K672",
        "outputId": "b79fe15a-c1b8-4f88-a2eb-74a34231a067"
      },
      "outputs": [
        {
          "data": {
            "text/html": [
              "<div>\n",
              "<style scoped>\n",
              "    .dataframe tbody tr th:only-of-type {\n",
              "        vertical-align: middle;\n",
              "    }\n",
              "\n",
              "    .dataframe tbody tr th {\n",
              "        vertical-align: top;\n",
              "    }\n",
              "\n",
              "    .dataframe thead th {\n",
              "        text-align: right;\n",
              "    }\n",
              "</style>\n",
              "<table border=\"1\" class=\"dataframe\">\n",
              "  <thead>\n",
              "    <tr style=\"text-align: right;\">\n",
              "      <th></th>\n",
              "      <th>age</th>\n",
              "      <th>sex</th>\n",
              "      <th>cp</th>\n",
              "      <th>trestbps</th>\n",
              "      <th>chol</th>\n",
              "      <th>fbs</th>\n",
              "      <th>restecg</th>\n",
              "      <th>thalach</th>\n",
              "      <th>exang</th>\n",
              "      <th>oldpeak</th>\n",
              "      <th>slope</th>\n",
              "      <th>ca</th>\n",
              "      <th>thal</th>\n",
              "      <th>target</th>\n",
              "    </tr>\n",
              "  </thead>\n",
              "  <tbody>\n",
              "    <tr>\n",
              "      <th>0</th>\n",
              "      <td>63</td>\n",
              "      <td>1</td>\n",
              "      <td>3</td>\n",
              "      <td>145</td>\n",
              "      <td>233</td>\n",
              "      <td>1</td>\n",
              "      <td>0</td>\n",
              "      <td>150</td>\n",
              "      <td>0</td>\n",
              "      <td>2.3</td>\n",
              "      <td>0</td>\n",
              "      <td>0</td>\n",
              "      <td>1</td>\n",
              "      <td>1</td>\n",
              "    </tr>\n",
              "    <tr>\n",
              "      <th>1</th>\n",
              "      <td>37</td>\n",
              "      <td>1</td>\n",
              "      <td>2</td>\n",
              "      <td>130</td>\n",
              "      <td>250</td>\n",
              "      <td>0</td>\n",
              "      <td>1</td>\n",
              "      <td>187</td>\n",
              "      <td>0</td>\n",
              "      <td>3.5</td>\n",
              "      <td>0</td>\n",
              "      <td>0</td>\n",
              "      <td>2</td>\n",
              "      <td>1</td>\n",
              "    </tr>\n",
              "    <tr>\n",
              "      <th>2</th>\n",
              "      <td>41</td>\n",
              "      <td>0</td>\n",
              "      <td>1</td>\n",
              "      <td>130</td>\n",
              "      <td>204</td>\n",
              "      <td>0</td>\n",
              "      <td>0</td>\n",
              "      <td>172</td>\n",
              "      <td>0</td>\n",
              "      <td>1.4</td>\n",
              "      <td>2</td>\n",
              "      <td>0</td>\n",
              "      <td>2</td>\n",
              "      <td>1</td>\n",
              "    </tr>\n",
              "    <tr>\n",
              "      <th>3</th>\n",
              "      <td>56</td>\n",
              "      <td>1</td>\n",
              "      <td>1</td>\n",
              "      <td>120</td>\n",
              "      <td>236</td>\n",
              "      <td>0</td>\n",
              "      <td>1</td>\n",
              "      <td>178</td>\n",
              "      <td>0</td>\n",
              "      <td>0.8</td>\n",
              "      <td>2</td>\n",
              "      <td>0</td>\n",
              "      <td>2</td>\n",
              "      <td>1</td>\n",
              "    </tr>\n",
              "    <tr>\n",
              "      <th>4</th>\n",
              "      <td>57</td>\n",
              "      <td>0</td>\n",
              "      <td>0</td>\n",
              "      <td>120</td>\n",
              "      <td>354</td>\n",
              "      <td>0</td>\n",
              "      <td>1</td>\n",
              "      <td>163</td>\n",
              "      <td>1</td>\n",
              "      <td>0.6</td>\n",
              "      <td>2</td>\n",
              "      <td>0</td>\n",
              "      <td>2</td>\n",
              "      <td>1</td>\n",
              "    </tr>\n",
              "  </tbody>\n",
              "</table>\n",
              "</div>"
            ],
            "text/plain": [
              "   age  sex  cp  trestbps  chol  fbs  restecg  thalach  exang  oldpeak  slope  \\\n",
              "0   63    1   3       145   233    1        0      150      0      2.3      0   \n",
              "1   37    1   2       130   250    0        1      187      0      3.5      0   \n",
              "2   41    0   1       130   204    0        0      172      0      1.4      2   \n",
              "3   56    1   1       120   236    0        1      178      0      0.8      2   \n",
              "4   57    0   0       120   354    0        1      163      1      0.6      2   \n",
              "\n",
              "   ca  thal  target  \n",
              "0   0     1       1  \n",
              "1   0     2       1  \n",
              "2   0     2       1  \n",
              "3   0     2       1  \n",
              "4   0     2       1  "
            ]
          },
          "execution_count": 2,
          "metadata": {},
          "output_type": "execute_result"
        }
      ],
      "source": [
        "heart_disease = pd.read_csv(\"https://raw.githubusercontent.com/CongLiu-CN/zero-to-mastery-ml/master/data/heart-disease.csv\")\n",
        "heart_disease.head()"
      ]
    },
    {
      "cell_type": "markdown",
      "metadata": {
        "id": "mMF4ump2k3fW"
      },
      "source": [
        "## Q1. Pré-processamento\n",
        "\n",
        "* Separe os dados `(X, y)` em treino e teste `(Xtrain. Xtest, ytrain, ytest)`. Dica: `train_test_split` já importada nesse script.\n",
        "* Normalize os dados. Lembre-se de ajustar os parâmetros de normalização **usando apenas os dados de treino**, mas normalize ambos os conjuntos. Dica: `StandardScaler` já importado no script."
      ]
    },
    {
      "cell_type": "code",
      "execution_count": 3,
      "metadata": {
        "id": "6fFzkT3Vk2lO"
      },
      "outputs": [],
      "source": [
        "# Porcentagem usada para treino\n",
        "TRAIN_PERCENTAGE = 0.75\n",
        "\n",
        "# Selecionando as dimensões de idade e batimentos máximos\n",
        "X = heart_disease.drop(\"target\", axis=1).to_numpy()\n",
        "y = heart_disease[\"target\"]\n",
        "\n",
        "Xtrain, Xtest, ytrain, ytest  = train_test_split(X, y, train_size=TRAIN_PERCENTAGE, shuffle=True)\n",
        "\n",
        "scaler = StandardScaler()\n",
        "\n",
        "scaler.fit(Xtrain)\n",
        "\n",
        "Xtrain = scaler.transform(Xtrain)\n",
        "Xtest  = scaler.transform(Xtest)"
      ]
    },
    {
      "cell_type": "markdown",
      "metadata": {
        "id": "8MlLdboJczep"
      },
      "source": [
        "## Q2. Classificação com 2 atributos\n",
        "\n",
        "Usando os atributos idade (age) e taxa máxima de batimentos cardíacos (thalach) iremos treinar a primeira leva de classificadores. Nessa etapa, defina empiricamente* hiperparâmetros que produzam classificadores interessantes. Note que este é um par de atributos com distribuições bastante misturadas, então algum nível de erro é esperado.\n",
        "\n",
        "> *definições empíricas significam testar alguns hiperparâmetros seguindo sua intuição. A ideia é você fuçar métricas e visualizações para entender o comportamento de cada hiperparâmetro.\n",
        "\n",
        "Você deve testar pelo menos os seguintes modelos e hiperparâmetros:\n",
        "* [SVC Kernel Linear](https://scikit-learn.org/stable/modules/generated/sklearn.svm.SVC.html): `C`\n",
        "* [SVC Kernel Polinomial](https://scikit-learn.org/stable/modules/generated/sklearn.svm.SVC.html): `C, grau, coef0`\n",
        "* [SVC Kernel RBF](https://scikit-learn.org/stable/modules/generated/sklearn.svm.SVC.html): `C, gamma`\n",
        "* [Árvores de decisão](https://scikit-learn.org/stable/modules/generated/sklearn.tree.DecisionTreeClassifier.html): `max_depth, min_impurity_decrease` \n",
        "* [Regressão Logística](https://scikit-learn.org/stable/modules/generated/sklearn.linear_model.LogisticRegression.html): `C`\n",
        "* [KNN](https://scikit-learn.org/stable/modules/generated/sklearn.neighbors.KNeighborsClassifier.html): `n_neighbors, weights`\n",
        "\n",
        "Na célula a seguir, iremos apenas separar os dados de treino em treino e validação para brincar com a definição de hiperparâmetros na célula seguinte."
      ]
    },
    {
      "cell_type": "code",
      "execution_count": null,
      "metadata": {
        "colab": {
          "base_uri": "https://localhost:8080/",
          "height": 282
        },
        "id": "eDEeNVvlcyvg",
        "outputId": "c00c82f4-a567-475e-d7f6-0097ae1ab59d"
      },
      "outputs": [],
      "source": [
        "## TODO Selecione as dimensões de idade e batimentos máximos (só descomentar se Xtrain e ytrain já foram definidos)\n",
        "X2d = Xtrain[:, [0, 7]]\n",
        "y2d = ytrain\n",
        "\n",
        "## TODO Visualize a distribuição (só descomentar)\n",
        "plt.scatter(X2d[:, 0], X2d[:, 1], c=y2d, cmap='bwr')\n",
        "print(X2d.shape, y2d.shape)\n",
        "\n",
        "## TODO Separar os dados (X2d, y2d) em treino e validação (X2d_train, X2d_val, y2d_train, y2d_val)\n",
        "X2d_train, X2d_val, y2d_train, y2d_val = train_test_split(X2d, y2d, train_size=TRAIN_PERCENTAGE, shuffle=True)"
      ]
    },
    {
      "cell_type": "markdown",
      "metadata": {
        "id": "vbGBZAE7n7uF"
      },
      "source": [
        "* Deixe na célula a seguir os 6 classificadores solicitados no enunciado com os hiperparâmetros que você definiu empiricamente.\n",
        "* Plot a visualização da fronteira de decisão de cada um de seus classificadores.\n",
        "* No título de cada plot inclua: 1) O classificador, 2) acurácia de treino e 3) acurácia de validação.\n",
        "\n",
        "A célula abaixo já traz a função `plot_boundary(X, y, clf)` que recebe dados, rótulos e um estimador, e apresenta uma visualização da fronteira de decisão. Complete a célula como identificado abaixo."
      ]
    },
    {
      "cell_type": "code",
      "execution_count": null,
      "metadata": {
        "colab": {
          "base_uri": "https://localhost:8080/",
          "height": 337
        },
        "id": "xIPhUvkuRleN",
        "outputId": "fce0a172-a8a7-4913-f1e9-ed15015f2e6a"
      },
      "outputs": [],
      "source": [
        "def plot_boundary(Xtr, Xts, ytr, yts, clf, clf_name='SVM'):\n",
        "  \n",
        "  x_min, x_max = Xtr[:, 0].min() - 1, Xtr[:, 0].max() + 1\n",
        "  y_min, y_max = Xtr[:, 0].min() - 1, Xtr[:, 1].max() + 1\n",
        "  xx, yy = np.meshgrid(np.arange(x_min, x_max, .05), np.arange(y_min, y_max, .05))\n",
        "  Z = clf.predict(np.c_[xx.ravel(), yy.ravel()])\n",
        "\n",
        "  Z = Z.reshape(xx.shape)\n",
        "  fig, ax = plt.subplots(1, 1, figsize=(7, 5))\n",
        "  ax.pcolormesh(xx, yy, Z, alpha=0.1, cmap='bwr')\n",
        "  ax.scatter(Xtr[:, 0], Xtr[:, 1], c=ytr, alpha=0.25, cmap='bwr', label='Treino')\n",
        "  ax.scatter(Xts[:, 0], Xts[:, 1], c=yts, marker='v', edgecolors='k', s=60, cmap='bwr', label='Teste')\n",
        "  \n",
        "  ## TODO organize o título da figura com o score do estimador clf (parâmetro)\n",
        "  my_score = clf.score(Xts, yts)\n",
        "  plt.title(f\"{clf_name} - {my_score}\")\n",
        "  \n",
        "  plt.legend()\n",
        "  plt.show()\n",
        "\n",
        "## TODO defina os classificadores e plot as fronteiras\n",
        "## Exemplo:\n",
        "## clf = svm.SVC(kernel='linear', C=0.1)\n",
        "## clf.fit(X2d_train, y2d_train)\n",
        "## plot_boundary(X2d_train, X2d_val, y2d_train, y2d_val, clf, 'SVM Linear')\n",
        "\n",
        "\n",
        "clf_svmlinear = svm.SVC(kernel='linear', C=0.1)\n",
        "clf_svmlinear.fit(X2d_train, y2d_train)\n",
        "plot_boundary(X2d_train, X2d_val, y2d_train, y2d_val, clf_svmlinear, 'SVM Linear')\n",
        "\n",
        "clf_svmpoly = svm.SVC(kernel='poly', C=0.1)\n",
        "clf_svmpoly.fit(X2d_train, y2d_train)\n",
        "plot_boundary(X2d_train, X2d_val, y2d_train, y2d_val, clf_svmpoly, 'SVM Poly')\n",
        "\n",
        "\n",
        "clf_svmrbf = svm.SVC(kernel=\"rbf\", C=0.1)\n",
        "clf_svmrbf.fit(X2d_train, y2d_train)\n",
        "plot_boundary(X2d_train, X2d_val, y2d_train, y2d_val, clf_svmrbf, 'SVM RBF')\n",
        "\n",
        "clf_knn = KNeighborsClassifier(n_neighbors=5, weights='distance')\n",
        "clf_knn.fit(X2d_train, y2d_train)\n",
        "plot_boundary(X2d_train, X2d_val, y2d_train, y2d_val, clf_knn, 'KNN')\n",
        "\n",
        "clf_regression = LogisticRegression(penalty='l2')\n",
        "clf_regression.fit(X2d_train, y2d_train)\n",
        "plot_boundary(X2d_train, X2d_val, y2d_train, y2d_val, clf_regression, 'Regression')\n",
        "\n",
        "\n",
        "\n",
        "clf_tree = DecisionTreeClassifier(criterion='gini')\n",
        "clf_tree.fit(X2d_train, y2d_train)\n",
        "plot_boundary(X2d_train, X2d_val, y2d_train, y2d_val, clf_tree, 'Decision Tree')\n"
      ]
    },
    {
      "cell_type": "markdown",
      "metadata": {
        "id": "RjsqDOrItCKk"
      },
      "source": [
        "## Q3. Otimização de hiperparâmetros\n",
        "\n",
        "Agora a brincadeira fica séria. Vamos definir um classificador usando todos os atributos da base. Agora que você já entende melhor os classificadores e os efeitos de cada hiperparâmetro, defina uma busca ([em grid](https://scikit-learn.org/stable/modules/generated/sklearn.model_selection.GridSearchCV.html) ou [aleatória](https://scikit-learn.org/stable/modules/generated/sklearn.model_selection.RandomizedSearchCV.html)) para otimizar os hiperparâmetros de **dois classificadores de sua escolha**.\n",
        "\n",
        "> Sugestão: escolha dois classificadores bem distintos entre si para comparar os resultados. \n",
        "\n",
        "Passo a passo:\n",
        "* Realize a otimização de hiperparâmetros utilizando **apenas os dados de treino**.\n",
        "* Selecione a melhor configuração para cada classificador que você escolheu\n",
        "* Reporte os resultados dos seus classificadores no conjunto de teste (que não mexemos até agora ;). Dica: `classification_report` e `confusion_matrix` já importados.\n"
      ]
    },
    {
      "cell_type": "code",
      "execution_count": null,
      "metadata": {
        "id": "yKWF2ixJMat_"
      },
      "outputs": [],
      "source": [
        "## TODO busque os melhores hiperparâmetros\n",
        "\n",
        "###########\n",
        "##\n",
        "##  KNN\n",
        "##\n",
        "###########\n",
        "\n",
        "parameters_knn = {\n",
        "    'n_neighbors':np.arange(3, 21, 1, dtype=np.int32),\n",
        "    'leaf_size': np.arange(20, 60, 5, dtype=np.int32),\n",
        "    'algorithm': ['auto', 'ball_tree', 'kd_tree', 'brute'],\n",
        "    'weights':['uniform', 'distance'],\n",
        "    'p': [1, 2]\n",
        "    }\n",
        "\n",
        "knn = KNeighborsClassifier()\n",
        "clf_knn = GridSearchCV(knn, parameters_knn)\n",
        "clf_knn.fit(X2d_train, y2d_train)\n",
        "\n",
        "print(f\"Best KNN score in training = {clf_knn.best_score_}\")\n",
        "print(f\"Best KNN params = {clf_knn.best_params_}\")\n",
        "\n",
        "clf_knn = clf_knn.best_estimator_\n",
        "\n",
        "print(f\"Score in testing set = {clf_knn.score(X2d_val, y2d_val)}\")\n",
        "plot_boundary(X2d_train, X2d_val, y2d_train, y2d_val, clf_knn, 'KNN Otimizado')\n",
        "\n",
        "\n",
        "####################\n",
        "##\n",
        "##  SVM\n",
        "##\n",
        "####################\n",
        "\n",
        "parameters_svm = {\n",
        "    'kernel': ['linear', 'poly', 'rbf', 'sigmoid'],\n",
        "    'C': np.arange(0.1, 4, 0.1),\n",
        "    'degree': [1, 2, 3, 4]\n",
        "    }\n",
        "\n",
        "classifier = svm.SVC()\n",
        "clf_svm = GridSearchCV(classifier, parameters_svm)\n",
        "clf_svm.fit(X2d_train, y2d_train)\n",
        "\n",
        "print(f\"Best SVM score in training = {clf_svm.best_score_}\")\n",
        "print(f\"Best SVM params = {clf_svm.best_params_}\")\n",
        "\n",
        "print(f\"Score in testing set = {clf_svm.score(X2d_val, y2d_val)}\")\n",
        "plot_boundary(X2d_train, X2d_val, y2d_train, y2d_val, clf_svm, 'SVM Otimizada')"
      ]
    },
    {
      "cell_type": "code",
      "execution_count": null,
      "metadata": {
        "id": "rf8SMUsIP3LB"
      },
      "outputs": [],
      "source": [
        "## TODO Retreine os modelos com os melhores hiperparâmetros\n",
        "## TODO Reporte o desempenho de cada classificador\n",
        "\n",
        "report_knn = classification_report(clf_knn.predict(X2d_val), y2d_val)\n",
        "report_svm = classification_report(clf_svm.predict(X2d_val), y2d_val)\n",
        "\n",
        "c_matrix_knn = confusion_matrix(y2d_val, clf_knn.predict(X2d_val))\n",
        "c_matrix_svm = confusion_matrix(y2d_val, clf_svm.predict(X2d_val))\n",
        "\n",
        "## KNN Metrics\n",
        "print(f\"KNN: {report_knn}\")\n",
        "\n",
        "knn_plot = plt\n",
        "\n",
        "knn_plot.matshow(c_matrix_knn, cmap=plt.cm.BuGn, vmin=5)\n",
        "knn_plot.title(\"Matriz de Confusão KNN\", y=1, loc=\"center\", pad=40, fontsize=16)\n",
        "knn_plot.colorbar()\n",
        "\n",
        "knn_plot.show()\n",
        "\n",
        "## SVM Metrics\n",
        "print(f\"SVM: {report_svm}\")\n",
        "\n",
        "svm_plot = plt\n",
        "\n",
        "svm_plot.matshow(c_matrix_svm, cmap=plt.cm.BuGn, vmin=5)\n",
        "svm_plot.title(\"Matriz de Confusão SVM\", y=1, loc=\"center\", pad=40, fontsize=16)\n",
        "svm_plot.colorbar()\n",
        "\n",
        "svm_plot.show()"
      ]
    },
    {
      "cell_type": "markdown",
      "metadata": {
        "id": "QhmEvIJmwL9E"
      },
      "source": [
        "## Dica extra: Salvando e carregando modelos\n",
        "\n",
        "A biblioteca pickle permite salvar e carregar arquivos binários contendo objetos do python. A célula a seguir apresenta um exemplo dessas funções. "
      ]
    },
    {
      "cell_type": "code",
      "execution_count": null,
      "metadata": {
        "id": "KMeXxUIFwMRF"
      },
      "outputs": [],
      "source": [
        "import pickle\n",
        "\n",
        "## Save an existing model to file\n",
        "pickle.dump(clf_knn, open(\"knn_classifier.pkl\", \"wb\"))\n",
        "\n",
        "## Load a saved model and make a prediction\n",
        "loaded_model = pickle.load(open(\"knn_classifier.pkl\", \"rb\"))\n",
        "loaded_model.score(X2d_val, y2d_val)"
      ]
    }
  ],
  "metadata": {
    "colab": {
      "collapsed_sections": [],
      "name": "Exercício - Classificação.ipynb",
      "provenance": []
    },
    "kernelspec": {
      "display_name": "Python 3.10.4 64-bit",
      "language": "python",
      "name": "python3"
    },
    "language_info": {
      "codemirror_mode": {
        "name": "ipython",
        "version": 3
      },
      "file_extension": ".py",
      "mimetype": "text/x-python",
      "name": "python",
      "nbconvert_exporter": "python",
      "pygments_lexer": "ipython3",
      "version": "3.10.4"
    },
    "vscode": {
      "interpreter": {
        "hash": "e7370f93d1d0cde622a1f8e1c04877d8463912d04d973331ad4851f04de6915a"
      }
    }
  },
  "nbformat": 4,
  "nbformat_minor": 0
}
