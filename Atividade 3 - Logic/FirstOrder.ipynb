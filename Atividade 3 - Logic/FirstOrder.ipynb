{
 "cells": [
  {
   "cell_type": "markdown",
   "metadata": {},
   "source": [
    "# Lógica de 1ª Ordem\n",
    "\n",
    "Operações mais importantes:\n",
    "* ```Atom(x[,y,...,z])```\n",
    "* ```Not(x)```\n",
    "* ```And(x, y), AndList(x1,x2,...,xn)```\n",
    "* ```Or(x, y)```, ```OrList(x1,x2,...,xn)```\n",
    "* ```Xor(x,y)```\n",
    "* ```Implies(x, y)```\n",
    "* ```Equiv(x, y)```\n",
    "* ```Exists(var, body)```\n",
    "* ```Forall(var, body)```\n",
    "\n",
    "Fluxo de utilização:\n",
    "```python\n",
    "kb = createResolutionKB()\n",
    "kb.tell(<formula>) # add information to KB\n",
    "kb.ask(<formula>)  # submit queries to KB\n",
    "kb.dump()          # list derivations\n",
    "```\n"
   ]
  },
  {
   "cell_type": "code",
   "execution_count": 2,
   "metadata": {},
   "outputs": [],
   "source": [
    "from logic import *"
   ]
  },
  {
   "cell_type": "code",
   "execution_count": 2,
   "metadata": {},
   "outputs": [
    {
     "name": "stdout",
     "output_type": "stream",
     "text": [
      "Pessoa(virginia)\n",
      "Origem(virginia,brasil)\n"
     ]
    }
   ],
   "source": [
    "#Predicado unário\n",
    "unario = Atom('Pessoa', 'virginia')\n",
    "print(unario)\n",
    "\n",
    "#Predicado binário\n",
    "binario = Atom('Origem', 'virginia', 'brasil')\n",
    "print(binario)"
   ]
  },
  {
   "cell_type": "markdown",
   "metadata": {},
   "source": [
    "∀x Estudante(x) →  Pessoa(x)"
   ]
  },
  {
   "cell_type": "code",
   "execution_count": 3,
   "metadata": {},
   "outputs": [
    {
     "name": "stdout",
     "output_type": "stream",
     "text": [
      "==== Knowledge base [1 derivations] ===\n",
      "('*', Or(Not(Estudante($x3)),Pessoa($x3)))\n"
     ]
    }
   ],
   "source": [
    "kb = createResolutionKB()\n",
    "kb.tell(Forall('$x', Implies(Atom('Estudante', '$x'), \n",
    "                             Atom('Pessoa', '$x'))) )\n",
    "kb.dump()"
   ]
  },
  {
   "cell_type": "code",
   "execution_count": 4,
   "metadata": {},
   "outputs": [
    {
     "name": "stdout",
     "output_type": "stream",
     "text": [
      "==== Knowledge base [3 derivations] ===\n",
      "('*', Or(Not(Estudante($x3)),Pessoa($x3)))\n",
      "('*', Estudante(henrique))\n",
      "('-', Pessoa(henrique))\n"
     ]
    }
   ],
   "source": [
    "kb.tell(Atom('Estudante', 'henrique'))\n",
    "kb.dump()"
   ]
  },
  {
   "cell_type": "markdown",
   "metadata": {},
   "source": [
    "### Exercícios"
   ]
  },
  {
   "cell_type": "markdown",
   "metadata": {},
   "source": [
    "### Escreva as seguintes proposições\n"
   ]
  },
  {
   "cell_type": "markdown",
   "metadata": {},
   "source": [
    "Proposição:\n",
    "* Todo mundo no Brasil conhece Casimiro. <BR>\n",
    "∀x (Pessoa(x) ∧ Origem(x, Brasil)) → Conhece(x, Casimiro)\n",
    "    \n",
    "Em seguida:\n",
    "- cadastre pessoas brasileiras e observe as derivações."
   ]
  },
  {
   "cell_type": "code",
   "execution_count": 5,
   "metadata": {},
   "outputs": [
    {
     "data": {
      "text/plain": [
       "I learned something."
      ]
     },
     "execution_count": 5,
     "metadata": {},
     "output_type": "execute_result"
    }
   ],
   "source": [
    "kb = createResolutionKB()\n",
    "and_ = And(Atom('Pessoa', '$x'), Atom('Origem', '$x', 'brasil')) \n",
    "forall = Forall('$x', Implies(and_, Atom('Conhece', '$x', 'casimiro') ))\n",
    "kb.tell(forall)"
   ]
  },
  {
   "cell_type": "code",
   "execution_count": 6,
   "metadata": {},
   "outputs": [
    {
     "name": "stdout",
     "output_type": "stream",
     "text": [
      "I don't know.\n",
      "Yes.\n"
     ]
    }
   ],
   "source": [
    "kb.tell(Atom('Pessoa','joao'))\n",
    "print(kb.ask(Atom('Conhece', 'joao', 'casimiro')))\n",
    "      \n",
    "kb.tell(Atom('Origem','joao', 'brasil'))\n",
    "print(kb.ask(Atom('Conhece', 'joao', 'casimiro')))"
   ]
  },
  {
   "cell_type": "markdown",
   "metadata": {},
   "source": [
    "Proposição: \n",
    "* Existe um curso que todos os estudantes fazem <br>\n",
    "∃y Curso(y) ∧ ∀x Estudante(x) → Cursou(x, y)\n",
    "\n",
    "Em seguida: \n",
    "- cadastre um estudante e observe as derivações."
   ]
  },
  {
   "cell_type": "code",
   "execution_count": 73,
   "metadata": {
    "scrolled": true
   },
   "outputs": [
    {
     "data": {
      "text/plain": [
       "I don't know."
      ]
     },
     "execution_count": 73,
     "metadata": {},
     "output_type": "execute_result"
    }
   ],
   "source": [
    "kb = createResolutionKB()\n",
    "\n",
    "\n",
    "direita = Forall('$x', Implies(Atom('Estudante', '$x'), Atom('Cursou', '$x', '$y')))\n",
    "todo = Exists('$y', And(Atom('Curso', '$y'), direita))\n",
    "\n",
    "kb.tell(todo)\n",
    "\n",
    "\n",
    "kb.tell(Atom('Curso', 'cdc'))\n",
    "kb.tell(Atom('Estudante', 'rafael'))\n",
    "\n",
    "kb.ask(Atom('Cursou', 'rafael', 'cdc'))"
   ]
  },
  {
   "cell_type": "markdown",
   "metadata": {},
   "source": [
    "Proposição:\n",
    "* Maria conhece todas as pessoas.\n",
    "\n",
    "Em seguida:\n",
    "- cadastre pessoas e observe as derivações."
   ]
  },
  {
   "cell_type": "code",
   "execution_count": 88,
   "metadata": {},
   "outputs": [
    {
     "data": {
      "text/plain": [
       "Yes."
      ]
     },
     "execution_count": 88,
     "metadata": {},
     "output_type": "execute_result"
    }
   ],
   "source": [
    "# Forallx Pessoa(x) -> Conhece(Maria, x)\n",
    "\n",
    "kb = createResolutionKB()\n",
    "\n",
    "expressao = Forall('$x', Implies(Atom('Pessoa', '$x'), Atom('Conhece', 'maria', '$x')))\n",
    "kb.tell(expressao)\n",
    "\n",
    "kb.tell(Atom('Pessoa', 'rafael'))\n",
    "kb.ask(Atom('Conhece', 'maria', 'rafael') )"
   ]
  },
  {
   "cell_type": "markdown",
   "metadata": {},
   "source": [
    "Proposição:\n",
    "* Quaisquer duas pessoas de mesma nacionalidade falam a mesma língua\n",
    "\n",
    "Em seguida:\n",
    "- Cadastre uma pessoa, sua nacionalidade brasileira, e indique que seu idioma\n",
    "- Cadastre uma segunda pessoa e a sua nacionalidade igual à da primeira\n",
    "- Pergunte se a segunda pessoa fala o mesmo idioma da primeira"
   ]
  },
  {
   "cell_type": "code",
   "execution_count": 10,
   "metadata": {},
   "outputs": [
    {
     "data": {
      "text/plain": [
       "Yes."
      ]
     },
     "execution_count": 10,
     "metadata": {},
     "output_type": "execute_result"
    }
   ],
   "source": [
    "# ∀x ∀y ∀o ∀i [ Pessoa(x) ^ Pessoa(y) ^ Equals( Origem(x, o), Origem(y, o) ) ^ Idioma(x, i) ] -> Idioma(y,i)\n",
    "\n",
    "kb = createResolutionKB()\n",
    "\n",
    "\n",
    "and_dentro = AndList([\n",
    "                      Atom('Pessoa', '$x'),\n",
    "                      Atom('Pessoa', '$y'),\n",
    "                      Atom('Nacionalidade', '$x', 'br'),\n",
    "                      Atom('Nacionalidade', '$y', 'br'),\n",
    "                      Atom('Lingua', '$x', 'pt')\n",
    "                         ])\n",
    "\n",
    "\n",
    "\n",
    "esq = Forall('$x', And(Atom('Pessoa', '$x'), \n",
    "      Forall('$y', And(Atom('Pessoa', '$y'), \n",
    "        and_dentro) )))\n",
    "\n",
    "\n",
    "# Nao funciona se eu fizer kb.tell(expressao), mas pq??????\n",
    "\n",
    "# expressao = Implies(esq, Atom('Lingua', '$y', 'pt'))\n",
    "\n",
    "\n",
    "# Só funciona +- se eu fizer assim, mas é o mais longe que eu cheguei.\n",
    "# Sei que não é o correto e não reflete a expressao que eu escrevi ali em cima, mas\n",
    "# isso foi o melhor que consegui fazer\n",
    "kb.tell(esq)\n",
    "\n",
    "kb.tell(Atom('Pessoa', 'rafael'))\n",
    "kb.tell(Atom('Nacionalidade', 'rafael', 'br'))\n",
    "kb.tell(Atom('Lingua', 'rafael', 'pt'))\n",
    "\n",
    "kb.tell(Atom('Pessoa', 'lucas'))\n",
    "kb.tell(Atom('Nacionalidade', 'lucas', 'br'))\n",
    "\n",
    "kb.ask(Atom('Lingua', 'lucas', 'pt'))"
   ]
  },
  {
   "cell_type": "code",
   "execution_count": null,
   "metadata": {},
   "outputs": [],
   "source": []
  },
  {
   "cell_type": "code",
   "execution_count": null,
   "metadata": {},
   "outputs": [],
   "source": []
  }
 ],
 "metadata": {
  "kernelspec": {
   "display_name": "Python 3 (ipykernel)",
   "language": "python",
   "name": "python3"
  },
  "language_info": {
   "codemirror_mode": {
    "name": "ipython",
    "version": 3
   },
   "file_extension": ".py",
   "mimetype": "text/x-python",
   "name": "python",
   "nbconvert_exporter": "python",
   "pygments_lexer": "ipython3",
   "version": "3.10.3"
  }
 },
 "nbformat": 4,
 "nbformat_minor": 4
}
