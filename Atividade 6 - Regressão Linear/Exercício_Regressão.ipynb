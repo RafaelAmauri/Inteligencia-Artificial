{
 "cells": [
  {
   "cell_type": "markdown",
   "metadata": {
    "id": "5AnNf-q2bTy9"
   },
   "source": [
    "# Regressão\n",
    "\n",
    "Material derivado do curso de Machine Learning da IBM: <br>\n",
    "https://www.coursera.org/learn/machine-learning-with-python"
   ]
  },
  {
   "cell_type": "code",
   "execution_count": null,
   "metadata": {
    "id": "stsTjR_Nb4xf"
   },
   "outputs": [],
   "source": [
    "import matplotlib.pyplot as plt\n",
    "import pandas as pd\n",
    "import numpy as np\n",
    "%matplotlib inline\n",
    "\n",
    "from sklearn.linear_model import LinearRegression"
   ]
  },
  {
   "cell_type": "code",
   "execution_count": null,
   "metadata": {
    "colab": {
     "base_uri": "https://localhost:8080/"
    },
    "id": "H0KXhWNeakXa",
    "outputId": "0b2172af-4b0f-4750-dcb8-25ec6d67390b"
   },
   "outputs": [
    {
     "name": "stdout",
     "output_type": "stream",
     "text": [
      "--2022-04-19 20:04:04--  https://cf-courses-data.s3.us.cloud-object-storage.appdomain.cloud/IBMDeveloperSkillsNetwork-ML0101EN-SkillsNetwork/labs/Module%202/data/FuelConsumptionCo2.csv\n",
      "Resolving cf-courses-data.s3.us.cloud-object-storage.appdomain.cloud (cf-courses-data.s3.us.cloud-object-storage.appdomain.cloud)... 169.63.118.104\n",
      "Connecting to cf-courses-data.s3.us.cloud-object-storage.appdomain.cloud (cf-courses-data.s3.us.cloud-object-storage.appdomain.cloud)|169.63.118.104|:443... connected.\n",
      "HTTP request sent, awaiting response... 200 OK\n",
      "Length: 72629 (71K) [text/csv]\n",
      "Saving to: ‘FuelConsumptionCo2.csv’\n",
      "\n",
      "FuelConsumptionCo2. 100%[===================>]  70.93K   280KB/s    in 0.3s    \n",
      "\n",
      "2022-04-19 20:04:05 (280 KB/s) - ‘FuelConsumptionCo2.csv’ saved [72629/72629]\n",
      "\n"
     ]
    }
   ],
   "source": [
    "!wget \"https://cf-courses-data.s3.us.cloud-object-storage.appdomain.cloud/IBMDeveloperSkillsNetwork-ML0101EN-SkillsNetwork/labs/Module%202/data/FuelConsumptionCo2.csv\"\n"
   ]
  },
  {
   "cell_type": "markdown",
   "metadata": {
    "id": "mrgWEiX2bPud"
   },
   "source": [
    "## FuelConsumption.csv\n",
    "\n",
    "O dataset que você baixou contém dados de consumo de combustível de diferentes modelos de veículos a partir das quais é possíveis estimar a taxa de emissão de CO2. A seguir uma breve descrição de cada atributo.\n",
    "\n",
    "    MODELYEAR e.g. 2014\n",
    "    MAKE e.g. Acura\n",
    "    MODEL e.g. ILX\n",
    "    VEHICLE CLASS e.g. SUV\n",
    "    ENGINE SIZE e.g. 4.7\n",
    "    CYLINDERS e.g 6\n",
    "    TRANSMISSION e.g. A6\n",
    "    FUEL CONSUMPTION in CITY(L/100 km) e.g. 9.9\n",
    "    FUEL CONSUMPTION in HWY (L/100 km) e.g. 8.9\n",
    "    FUEL CONSUMPTION COMB (L/100 km) e.g. 9.2\n",
    "    CO2 EMISSIONS (g/km) e.g. 182 --> low --> 0 #variável objetivo\n"
   ]
  },
  {
   "cell_type": "markdown",
   "metadata": {
    "id": "kB1aTqxEcANy"
   },
   "source": [
    "A seguir utilizamos as seguintes funções:\n",
    "- `df.head()`: apresenta as primeiras 5 amostras da base e todos os seus atributos.\n",
    "- `df.describe()`: Apresenta estastísticas gerais de cada atributo."
   ]
  },
  {
   "cell_type": "code",
   "execution_count": null,
   "metadata": {
    "colab": {
     "base_uri": "https://localhost:8080/",
     "height": 490
    },
    "id": "b4fbNCGIbOw_",
    "outputId": "e62a5bb0-031a-4f24-bc97-aae26b97899f"
   },
   "outputs": [
    {
     "data": {
      "text/html": [
       "\n",
       "  <div id=\"df-a31f337e-b37a-480b-be9d-b194d910e3a3\">\n",
       "    <div class=\"colab-df-container\">\n",
       "      <div>\n",
       "<style scoped>\n",
       "    .dataframe tbody tr th:only-of-type {\n",
       "        vertical-align: middle;\n",
       "    }\n",
       "\n",
       "    .dataframe tbody tr th {\n",
       "        vertical-align: top;\n",
       "    }\n",
       "\n",
       "    .dataframe thead th {\n",
       "        text-align: right;\n",
       "    }\n",
       "</style>\n",
       "<table border=\"1\" class=\"dataframe\">\n",
       "  <thead>\n",
       "    <tr style=\"text-align: right;\">\n",
       "      <th></th>\n",
       "      <th>MODELYEAR</th>\n",
       "      <th>MAKE</th>\n",
       "      <th>MODEL</th>\n",
       "      <th>VEHICLECLASS</th>\n",
       "      <th>ENGINESIZE</th>\n",
       "      <th>CYLINDERS</th>\n",
       "      <th>TRANSMISSION</th>\n",
       "      <th>FUELTYPE</th>\n",
       "      <th>FUELCONSUMPTION_CITY</th>\n",
       "      <th>FUELCONSUMPTION_HWY</th>\n",
       "      <th>FUELCONSUMPTION_COMB</th>\n",
       "      <th>FUELCONSUMPTION_COMB_MPG</th>\n",
       "      <th>CO2EMISSIONS</th>\n",
       "    </tr>\n",
       "  </thead>\n",
       "  <tbody>\n",
       "    <tr>\n",
       "      <th>0</th>\n",
       "      <td>2014</td>\n",
       "      <td>ACURA</td>\n",
       "      <td>ILX</td>\n",
       "      <td>COMPACT</td>\n",
       "      <td>2.0</td>\n",
       "      <td>4</td>\n",
       "      <td>AS5</td>\n",
       "      <td>Z</td>\n",
       "      <td>9.9</td>\n",
       "      <td>6.7</td>\n",
       "      <td>8.5</td>\n",
       "      <td>33</td>\n",
       "      <td>196</td>\n",
       "    </tr>\n",
       "    <tr>\n",
       "      <th>1</th>\n",
       "      <td>2014</td>\n",
       "      <td>ACURA</td>\n",
       "      <td>ILX</td>\n",
       "      <td>COMPACT</td>\n",
       "      <td>2.4</td>\n",
       "      <td>4</td>\n",
       "      <td>M6</td>\n",
       "      <td>Z</td>\n",
       "      <td>11.2</td>\n",
       "      <td>7.7</td>\n",
       "      <td>9.6</td>\n",
       "      <td>29</td>\n",
       "      <td>221</td>\n",
       "    </tr>\n",
       "    <tr>\n",
       "      <th>2</th>\n",
       "      <td>2014</td>\n",
       "      <td>ACURA</td>\n",
       "      <td>ILX HYBRID</td>\n",
       "      <td>COMPACT</td>\n",
       "      <td>1.5</td>\n",
       "      <td>4</td>\n",
       "      <td>AV7</td>\n",
       "      <td>Z</td>\n",
       "      <td>6.0</td>\n",
       "      <td>5.8</td>\n",
       "      <td>5.9</td>\n",
       "      <td>48</td>\n",
       "      <td>136</td>\n",
       "    </tr>\n",
       "    <tr>\n",
       "      <th>3</th>\n",
       "      <td>2014</td>\n",
       "      <td>ACURA</td>\n",
       "      <td>MDX 4WD</td>\n",
       "      <td>SUV - SMALL</td>\n",
       "      <td>3.5</td>\n",
       "      <td>6</td>\n",
       "      <td>AS6</td>\n",
       "      <td>Z</td>\n",
       "      <td>12.7</td>\n",
       "      <td>9.1</td>\n",
       "      <td>11.1</td>\n",
       "      <td>25</td>\n",
       "      <td>255</td>\n",
       "    </tr>\n",
       "    <tr>\n",
       "      <th>4</th>\n",
       "      <td>2014</td>\n",
       "      <td>ACURA</td>\n",
       "      <td>RDX AWD</td>\n",
       "      <td>SUV - SMALL</td>\n",
       "      <td>3.5</td>\n",
       "      <td>6</td>\n",
       "      <td>AS6</td>\n",
       "      <td>Z</td>\n",
       "      <td>12.1</td>\n",
       "      <td>8.7</td>\n",
       "      <td>10.6</td>\n",
       "      <td>27</td>\n",
       "      <td>244</td>\n",
       "    </tr>\n",
       "  </tbody>\n",
       "</table>\n",
       "</div>\n",
       "      <button class=\"colab-df-convert\" onclick=\"convertToInteractive('df-a31f337e-b37a-480b-be9d-b194d910e3a3')\"\n",
       "              title=\"Convert this dataframe to an interactive table.\"\n",
       "              style=\"display:none;\">\n",
       "        \n",
       "  <svg xmlns=\"http://www.w3.org/2000/svg\" height=\"24px\"viewBox=\"0 0 24 24\"\n",
       "       width=\"24px\">\n",
       "    <path d=\"M0 0h24v24H0V0z\" fill=\"none\"/>\n",
       "    <path d=\"M18.56 5.44l.94 2.06.94-2.06 2.06-.94-2.06-.94-.94-2.06-.94 2.06-2.06.94zm-11 1L8.5 8.5l.94-2.06 2.06-.94-2.06-.94L8.5 2.5l-.94 2.06-2.06.94zm10 10l.94 2.06.94-2.06 2.06-.94-2.06-.94-.94-2.06-.94 2.06-2.06.94z\"/><path d=\"M17.41 7.96l-1.37-1.37c-.4-.4-.92-.59-1.43-.59-.52 0-1.04.2-1.43.59L10.3 9.45l-7.72 7.72c-.78.78-.78 2.05 0 2.83L4 21.41c.39.39.9.59 1.41.59.51 0 1.02-.2 1.41-.59l7.78-7.78 2.81-2.81c.8-.78.8-2.07 0-2.86zM5.41 20L4 18.59l7.72-7.72 1.47 1.35L5.41 20z\"/>\n",
       "  </svg>\n",
       "      </button>\n",
       "      \n",
       "  <style>\n",
       "    .colab-df-container {\n",
       "      display:flex;\n",
       "      flex-wrap:wrap;\n",
       "      gap: 12px;\n",
       "    }\n",
       "\n",
       "    .colab-df-convert {\n",
       "      background-color: #E8F0FE;\n",
       "      border: none;\n",
       "      border-radius: 50%;\n",
       "      cursor: pointer;\n",
       "      display: none;\n",
       "      fill: #1967D2;\n",
       "      height: 32px;\n",
       "      padding: 0 0 0 0;\n",
       "      width: 32px;\n",
       "    }\n",
       "\n",
       "    .colab-df-convert:hover {\n",
       "      background-color: #E2EBFA;\n",
       "      box-shadow: 0px 1px 2px rgba(60, 64, 67, 0.3), 0px 1px 3px 1px rgba(60, 64, 67, 0.15);\n",
       "      fill: #174EA6;\n",
       "    }\n",
       "\n",
       "    [theme=dark] .colab-df-convert {\n",
       "      background-color: #3B4455;\n",
       "      fill: #D2E3FC;\n",
       "    }\n",
       "\n",
       "    [theme=dark] .colab-df-convert:hover {\n",
       "      background-color: #434B5C;\n",
       "      box-shadow: 0px 1px 3px 1px rgba(0, 0, 0, 0.15);\n",
       "      filter: drop-shadow(0px 1px 2px rgba(0, 0, 0, 0.3));\n",
       "      fill: #FFFFFF;\n",
       "    }\n",
       "  </style>\n",
       "\n",
       "      <script>\n",
       "        const buttonEl =\n",
       "          document.querySelector('#df-a31f337e-b37a-480b-be9d-b194d910e3a3 button.colab-df-convert');\n",
       "        buttonEl.style.display =\n",
       "          google.colab.kernel.accessAllowed ? 'block' : 'none';\n",
       "\n",
       "        async function convertToInteractive(key) {\n",
       "          const element = document.querySelector('#df-a31f337e-b37a-480b-be9d-b194d910e3a3');\n",
       "          const dataTable =\n",
       "            await google.colab.kernel.invokeFunction('convertToInteractive',\n",
       "                                                     [key], {});\n",
       "          if (!dataTable) return;\n",
       "\n",
       "          const docLinkHtml = 'Like what you see? Visit the ' +\n",
       "            '<a target=\"_blank\" href=https://colab.research.google.com/notebooks/data_table.ipynb>data table notebook</a>'\n",
       "            + ' to learn more about interactive tables.';\n",
       "          element.innerHTML = '';\n",
       "          dataTable['output_type'] = 'display_data';\n",
       "          await google.colab.output.renderOutput(dataTable, element);\n",
       "          const docLink = document.createElement('div');\n",
       "          docLink.innerHTML = docLinkHtml;\n",
       "          element.appendChild(docLink);\n",
       "        }\n",
       "      </script>\n",
       "    </div>\n",
       "  </div>\n",
       "  "
      ],
      "text/plain": [
       "   MODELYEAR   MAKE       MODEL VEHICLECLASS  ENGINESIZE  CYLINDERS  \\\n",
       "0       2014  ACURA         ILX      COMPACT         2.0          4   \n",
       "1       2014  ACURA         ILX      COMPACT         2.4          4   \n",
       "2       2014  ACURA  ILX HYBRID      COMPACT         1.5          4   \n",
       "3       2014  ACURA     MDX 4WD  SUV - SMALL         3.5          6   \n",
       "4       2014  ACURA     RDX AWD  SUV - SMALL         3.5          6   \n",
       "\n",
       "  TRANSMISSION FUELTYPE  FUELCONSUMPTION_CITY  FUELCONSUMPTION_HWY  \\\n",
       "0          AS5        Z                   9.9                  6.7   \n",
       "1           M6        Z                  11.2                  7.7   \n",
       "2          AV7        Z                   6.0                  5.8   \n",
       "3          AS6        Z                  12.7                  9.1   \n",
       "4          AS6        Z                  12.1                  8.7   \n",
       "\n",
       "   FUELCONSUMPTION_COMB  FUELCONSUMPTION_COMB_MPG  CO2EMISSIONS  \n",
       "0                   8.5                        33           196  \n",
       "1                   9.6                        29           221  \n",
       "2                   5.9                        48           136  \n",
       "3                  11.1                        25           255  \n",
       "4                  10.6                        27           244  "
      ]
     },
     "metadata": {},
     "output_type": "display_data"
    },
    {
     "data": {
      "text/html": [
       "\n",
       "  <div id=\"df-7a53ef48-55ea-4e07-84fb-b35a799bea08\">\n",
       "    <div class=\"colab-df-container\">\n",
       "      <div>\n",
       "<style scoped>\n",
       "    .dataframe tbody tr th:only-of-type {\n",
       "        vertical-align: middle;\n",
       "    }\n",
       "\n",
       "    .dataframe tbody tr th {\n",
       "        vertical-align: top;\n",
       "    }\n",
       "\n",
       "    .dataframe thead th {\n",
       "        text-align: right;\n",
       "    }\n",
       "</style>\n",
       "<table border=\"1\" class=\"dataframe\">\n",
       "  <thead>\n",
       "    <tr style=\"text-align: right;\">\n",
       "      <th></th>\n",
       "      <th>MODELYEAR</th>\n",
       "      <th>ENGINESIZE</th>\n",
       "      <th>CYLINDERS</th>\n",
       "      <th>FUELCONSUMPTION_CITY</th>\n",
       "      <th>FUELCONSUMPTION_HWY</th>\n",
       "      <th>FUELCONSUMPTION_COMB</th>\n",
       "      <th>FUELCONSUMPTION_COMB_MPG</th>\n",
       "      <th>CO2EMISSIONS</th>\n",
       "    </tr>\n",
       "  </thead>\n",
       "  <tbody>\n",
       "    <tr>\n",
       "      <th>count</th>\n",
       "      <td>1067.0</td>\n",
       "      <td>1067.000000</td>\n",
       "      <td>1067.000000</td>\n",
       "      <td>1067.000000</td>\n",
       "      <td>1067.000000</td>\n",
       "      <td>1067.000000</td>\n",
       "      <td>1067.000000</td>\n",
       "      <td>1067.000000</td>\n",
       "    </tr>\n",
       "    <tr>\n",
       "      <th>mean</th>\n",
       "      <td>2014.0</td>\n",
       "      <td>3.346298</td>\n",
       "      <td>5.794752</td>\n",
       "      <td>13.296532</td>\n",
       "      <td>9.474602</td>\n",
       "      <td>11.580881</td>\n",
       "      <td>26.441425</td>\n",
       "      <td>256.228679</td>\n",
       "    </tr>\n",
       "    <tr>\n",
       "      <th>std</th>\n",
       "      <td>0.0</td>\n",
       "      <td>1.415895</td>\n",
       "      <td>1.797447</td>\n",
       "      <td>4.101253</td>\n",
       "      <td>2.794510</td>\n",
       "      <td>3.485595</td>\n",
       "      <td>7.468702</td>\n",
       "      <td>63.372304</td>\n",
       "    </tr>\n",
       "    <tr>\n",
       "      <th>min</th>\n",
       "      <td>2014.0</td>\n",
       "      <td>1.000000</td>\n",
       "      <td>3.000000</td>\n",
       "      <td>4.600000</td>\n",
       "      <td>4.900000</td>\n",
       "      <td>4.700000</td>\n",
       "      <td>11.000000</td>\n",
       "      <td>108.000000</td>\n",
       "    </tr>\n",
       "    <tr>\n",
       "      <th>25%</th>\n",
       "      <td>2014.0</td>\n",
       "      <td>2.000000</td>\n",
       "      <td>4.000000</td>\n",
       "      <td>10.250000</td>\n",
       "      <td>7.500000</td>\n",
       "      <td>9.000000</td>\n",
       "      <td>21.000000</td>\n",
       "      <td>207.000000</td>\n",
       "    </tr>\n",
       "    <tr>\n",
       "      <th>50%</th>\n",
       "      <td>2014.0</td>\n",
       "      <td>3.400000</td>\n",
       "      <td>6.000000</td>\n",
       "      <td>12.600000</td>\n",
       "      <td>8.800000</td>\n",
       "      <td>10.900000</td>\n",
       "      <td>26.000000</td>\n",
       "      <td>251.000000</td>\n",
       "    </tr>\n",
       "    <tr>\n",
       "      <th>75%</th>\n",
       "      <td>2014.0</td>\n",
       "      <td>4.300000</td>\n",
       "      <td>8.000000</td>\n",
       "      <td>15.550000</td>\n",
       "      <td>10.850000</td>\n",
       "      <td>13.350000</td>\n",
       "      <td>31.000000</td>\n",
       "      <td>294.000000</td>\n",
       "    </tr>\n",
       "    <tr>\n",
       "      <th>max</th>\n",
       "      <td>2014.0</td>\n",
       "      <td>8.400000</td>\n",
       "      <td>12.000000</td>\n",
       "      <td>30.200000</td>\n",
       "      <td>20.500000</td>\n",
       "      <td>25.800000</td>\n",
       "      <td>60.000000</td>\n",
       "      <td>488.000000</td>\n",
       "    </tr>\n",
       "  </tbody>\n",
       "</table>\n",
       "</div>\n",
       "      <button class=\"colab-df-convert\" onclick=\"convertToInteractive('df-7a53ef48-55ea-4e07-84fb-b35a799bea08')\"\n",
       "              title=\"Convert this dataframe to an interactive table.\"\n",
       "              style=\"display:none;\">\n",
       "        \n",
       "  <svg xmlns=\"http://www.w3.org/2000/svg\" height=\"24px\"viewBox=\"0 0 24 24\"\n",
       "       width=\"24px\">\n",
       "    <path d=\"M0 0h24v24H0V0z\" fill=\"none\"/>\n",
       "    <path d=\"M18.56 5.44l.94 2.06.94-2.06 2.06-.94-2.06-.94-.94-2.06-.94 2.06-2.06.94zm-11 1L8.5 8.5l.94-2.06 2.06-.94-2.06-.94L8.5 2.5l-.94 2.06-2.06.94zm10 10l.94 2.06.94-2.06 2.06-.94-2.06-.94-.94-2.06-.94 2.06-2.06.94z\"/><path d=\"M17.41 7.96l-1.37-1.37c-.4-.4-.92-.59-1.43-.59-.52 0-1.04.2-1.43.59L10.3 9.45l-7.72 7.72c-.78.78-.78 2.05 0 2.83L4 21.41c.39.39.9.59 1.41.59.51 0 1.02-.2 1.41-.59l7.78-7.78 2.81-2.81c.8-.78.8-2.07 0-2.86zM5.41 20L4 18.59l7.72-7.72 1.47 1.35L5.41 20z\"/>\n",
       "  </svg>\n",
       "      </button>\n",
       "      \n",
       "  <style>\n",
       "    .colab-df-container {\n",
       "      display:flex;\n",
       "      flex-wrap:wrap;\n",
       "      gap: 12px;\n",
       "    }\n",
       "\n",
       "    .colab-df-convert {\n",
       "      background-color: #E8F0FE;\n",
       "      border: none;\n",
       "      border-radius: 50%;\n",
       "      cursor: pointer;\n",
       "      display: none;\n",
       "      fill: #1967D2;\n",
       "      height: 32px;\n",
       "      padding: 0 0 0 0;\n",
       "      width: 32px;\n",
       "    }\n",
       "\n",
       "    .colab-df-convert:hover {\n",
       "      background-color: #E2EBFA;\n",
       "      box-shadow: 0px 1px 2px rgba(60, 64, 67, 0.3), 0px 1px 3px 1px rgba(60, 64, 67, 0.15);\n",
       "      fill: #174EA6;\n",
       "    }\n",
       "\n",
       "    [theme=dark] .colab-df-convert {\n",
       "      background-color: #3B4455;\n",
       "      fill: #D2E3FC;\n",
       "    }\n",
       "\n",
       "    [theme=dark] .colab-df-convert:hover {\n",
       "      background-color: #434B5C;\n",
       "      box-shadow: 0px 1px 3px 1px rgba(0, 0, 0, 0.15);\n",
       "      filter: drop-shadow(0px 1px 2px rgba(0, 0, 0, 0.3));\n",
       "      fill: #FFFFFF;\n",
       "    }\n",
       "  </style>\n",
       "\n",
       "      <script>\n",
       "        const buttonEl =\n",
       "          document.querySelector('#df-7a53ef48-55ea-4e07-84fb-b35a799bea08 button.colab-df-convert');\n",
       "        buttonEl.style.display =\n",
       "          google.colab.kernel.accessAllowed ? 'block' : 'none';\n",
       "\n",
       "        async function convertToInteractive(key) {\n",
       "          const element = document.querySelector('#df-7a53ef48-55ea-4e07-84fb-b35a799bea08');\n",
       "          const dataTable =\n",
       "            await google.colab.kernel.invokeFunction('convertToInteractive',\n",
       "                                                     [key], {});\n",
       "          if (!dataTable) return;\n",
       "\n",
       "          const docLinkHtml = 'Like what you see? Visit the ' +\n",
       "            '<a target=\"_blank\" href=https://colab.research.google.com/notebooks/data_table.ipynb>data table notebook</a>'\n",
       "            + ' to learn more about interactive tables.';\n",
       "          element.innerHTML = '';\n",
       "          dataTable['output_type'] = 'display_data';\n",
       "          await google.colab.output.renderOutput(dataTable, element);\n",
       "          const docLink = document.createElement('div');\n",
       "          docLink.innerHTML = docLinkHtml;\n",
       "          element.appendChild(docLink);\n",
       "        }\n",
       "      </script>\n",
       "    </div>\n",
       "  </div>\n",
       "  "
      ],
      "text/plain": [
       "       MODELYEAR   ENGINESIZE    CYLINDERS  FUELCONSUMPTION_CITY  \\\n",
       "count     1067.0  1067.000000  1067.000000           1067.000000   \n",
       "mean      2014.0     3.346298     5.794752             13.296532   \n",
       "std          0.0     1.415895     1.797447              4.101253   \n",
       "min       2014.0     1.000000     3.000000              4.600000   \n",
       "25%       2014.0     2.000000     4.000000             10.250000   \n",
       "50%       2014.0     3.400000     6.000000             12.600000   \n",
       "75%       2014.0     4.300000     8.000000             15.550000   \n",
       "max       2014.0     8.400000    12.000000             30.200000   \n",
       "\n",
       "       FUELCONSUMPTION_HWY  FUELCONSUMPTION_COMB  FUELCONSUMPTION_COMB_MPG  \\\n",
       "count          1067.000000           1067.000000               1067.000000   \n",
       "mean              9.474602             11.580881                 26.441425   \n",
       "std               2.794510              3.485595                  7.468702   \n",
       "min               4.900000              4.700000                 11.000000   \n",
       "25%               7.500000              9.000000                 21.000000   \n",
       "50%               8.800000             10.900000                 26.000000   \n",
       "75%              10.850000             13.350000                 31.000000   \n",
       "max              20.500000             25.800000                 60.000000   \n",
       "\n",
       "       CO2EMISSIONS  \n",
       "count   1067.000000  \n",
       "mean     256.228679  \n",
       "std       63.372304  \n",
       "min      108.000000  \n",
       "25%      207.000000  \n",
       "50%      251.000000  \n",
       "75%      294.000000  \n",
       "max      488.000000  "
      ]
     },
     "execution_count": 5,
     "metadata": {},
     "output_type": "execute_result"
    }
   ],
   "source": [
    "df = pd.read_csv(\"FuelConsumptionCo2.csv\")\n",
    "display(df.head())\n",
    "df.describe()"
   ]
  },
  {
   "cell_type": "markdown",
   "metadata": {
    "id": "PhP-ct3ZcPMa"
   },
   "source": [
    "## Q1. Regressão Simples\n",
    "\n",
    "A variável que gostaríamos de prever é a `CO2EMISSIONS`. Faremos nessa primeira atividade uma regressão simples, onde a partir de uma única variável, vamos modelar a predição da variável objetivo.\n",
    "\n",
    "- Plot o espalhamento de cada uma das variáveis em relação à emissão de CO2 (função scatter do matplotlib, `plt.scatter`)\n",
    "- Plot também a matriz de correlação (`df.corr`)\n",
    "- Selecione a variável mais correlacionada para alimentar nosso modelo no passo seguinte.\n",
    "> Note que as bibliotecas necessárias já foram importadas no início deste documento."
   ]
  },
  {
   "cell_type": "code",
   "execution_count": 1,
   "metadata": {
    "id": "1tooUVVncPpk"
   },
   "outputs": [
    {
     "name": "stdout",
     "output_type": "stream",
     "text": [
      "Showing chart for MODELYEAR\n"
     ]
    },
    {
     "data": {
      "image/png": "[encoded data removed]",
      "text/plain": [
       "<Figure size 432x288 with 1 Axes>"
      ]
     },
     "metadata": {
      "needs_background": "light"
     },
     "output_type": "display_data"
    },
    {
     "name": "stdout",
     "output_type": "stream",
     "text": [
      "Showing chart for MAKE\n"
     ]
    },
    {
     "data": {
      "image/png": "[encoded data removed]",
      "text/plain": [
       "<Figure size 432x288 with 1 Axes>"
      ]
     },
     "metadata": {
      "needs_background": "light"
     },
     "output_type": "display_data"
    },
    {
     "name": "stdout",
     "output_type": "stream",
     "text": [
      "Showing chart for MODEL\n"
     ]
    },
    {
     "data": {
      "image/png": "[encoded data removed]",
      "text/plain": [
       "<Figure size 432x288 with 1 Axes>"
      ]
     },
     "metadata": {
      "needs_background": "light"
     },
     "output_type": "display_data"
    },
    {
     "name": "stdout",
     "output_type": "stream",
     "text": [
      "Showing chart for VEHICLECLASS\n"
     ]
    },
    {
     "data": {
      "image/png": "[encoded data removed]",
      "text/plain": [
       "<Figure size 432x288 with 1 Axes>"
      ]
     },
     "metadata": {
      "needs_background": "light"
     },
     "output_type": "display_data"
    },
    {
     "name": "stdout",
     "output_type": "stream",
     "text": [
      "Showing chart for ENGINESIZE\n"
     ]
    },
    {
     "data": {
      "image/png": "[encoded data removed]",
      "text/plain": [
       "<Figure size 432x288 with 1 Axes>"
      ]
     },
     "metadata": {
      "needs_background": "light"
     },
     "output_type": "display_data"
    },
    {
     "name": "stdout",
     "output_type": "stream",
     "text": [
      "Showing chart for CYLINDERS\n"
     ]
    },
    {
     "data": {
      "image/png": "[encoded data removed]",
      "text/plain": [
       "<Figure size 432x288 with 1 Axes>"
      ]
     },
     "metadata": {
      "needs_background": "light"
     },
     "output_type": "display_data"
    },
    {
     "name": "stdout",
     "output_type": "stream",
     "text": [
      "Showing chart for TRANSMISSION\n"
     ]
    },
    {
     "data": {
      "image/png": "[encoded data removed]",
      "text/plain": [
       "<Figure size 432x288 with 1 Axes>"
      ]
     },
     "metadata": {
      "needs_background": "light"
     },
     "output_type": "display_data"
    },
    {
     "name": "stdout",
     "output_type": "stream",
     "text": [
      "Showing chart for FUELTYPE\n"
     ]
    },
    {
     "data": {
      "image/png": "[encoded data removed]",
      "text/plain": [
       "<Figure size 432x288 with 1 Axes>"
      ]
     },
     "metadata": {
      "needs_background": "light"
     },
     "output_type": "display_data"
    },
    {
     "name": "stdout",
     "output_type": "stream",
     "text": [
      "Showing chart for FUELCONSUMPTION_CITY\n"
     ]
    },
    {
     "data": {
      "image/png": "[encoded data removed]",
      "text/plain": [
       "<Figure size 432x288 with 1 Axes>"
      ]
     },
     "metadata": {
      "needs_background": "light"
     },
     "output_type": "display_data"
    },
    {
     "name": "stdout",
     "output_type": "stream",
     "text": [
      "Showing chart for FUELCONSUMPTION_HWY\n"
     ]
    },
    {
     "data": {
      "image/png": "[encoded data removed]",
      "text/plain": [
       "<Figure size 432x288 with 1 Axes>"
      ]
     },
     "metadata": {
      "needs_background": "light"
     },
     "output_type": "display_data"
    },
    {
     "name": "stdout",
     "output_type": "stream",
     "text": [
      "Showing chart for FUELCONSUMPTION_COMB\n"
     ]
    },
    {
     "data": {
      "image/png": "[encoded data removed]",
      "text/plain": [
       "<Figure size 432x288 with 1 Axes>"
      ]
     },
     "metadata": {
      "needs_background": "light"
     },
     "output_type": "display_data"
    },
    {
     "name": "stdout",
     "output_type": "stream",
     "text": [
      "Showing chart for FUELCONSUMPTION_COMB_MPG\n"
     ]
    },
    {
     "data": {
      "image/png": "[encoded data removed]",
      "text/plain": [
       "<Figure size 432x288 with 1 Axes>"
      ]
     },
     "metadata": {
      "needs_background": "light"
     },
     "output_type": "display_data"
    },
    {
     "name": "stdout",
     "output_type": "stream",
     "text": [
      "                          MODELYEAR  ENGINESIZE  CYLINDERS  \\\n",
      "CO2EMISSIONS                    NaN    0.874154   0.849685   \n",
      "FUELCONSUMPTION_CITY            NaN    0.832225   0.796473   \n",
      "FUELCONSUMPTION_COMB            NaN    0.819482   0.776788   \n",
      "ENGINESIZE                      NaN    1.000000   0.934011   \n",
      "FUELCONSUMPTION_HWY             NaN    0.778746   0.724594   \n",
      "CYLINDERS                       NaN    0.934011   1.000000   \n",
      "FUELCONSUMPTION_COMB_MPG        NaN   -0.808554  -0.770430   \n",
      "MODELYEAR                       NaN         NaN        NaN   \n",
      "\n",
      "                          FUELCONSUMPTION_CITY  FUELCONSUMPTION_HWY  \\\n",
      "CO2EMISSIONS                          0.898039             0.861748   \n",
      "FUELCONSUMPTION_CITY                  1.000000             0.965718   \n",
      "FUELCONSUMPTION_COMB                  0.995542             0.985804   \n",
      "ENGINESIZE                            0.832225             0.778746   \n",
      "FUELCONSUMPTION_HWY                   0.965718             1.000000   \n",
      "CYLINDERS                             0.796473             0.724594   \n",
      "FUELCONSUMPTION_COMB_MPG             -0.935613            -0.893809   \n",
      "MODELYEAR                                  NaN                  NaN   \n",
      "\n",
      "                          FUELCONSUMPTION_COMB  FUELCONSUMPTION_COMB_MPG  \\\n",
      "CO2EMISSIONS                          0.892129                 -0.906394   \n",
      "FUELCONSUMPTION_CITY                  0.995542                 -0.935613   \n",
      "FUELCONSUMPTION_COMB                  1.000000                 -0.927965   \n",
      "ENGINESIZE                            0.819482                 -0.808554   \n",
      "FUELCONSUMPTION_HWY                   0.985804                 -0.893809   \n",
      "CYLINDERS                             0.776788                 -0.770430   \n",
      "FUELCONSUMPTION_COMB_MPG             -0.927965                  1.000000   \n",
      "MODELYEAR                                  NaN                       NaN   \n",
      "\n",
      "                          CO2EMISSIONS  \n",
      "CO2EMISSIONS                  1.000000  \n",
      "FUELCONSUMPTION_CITY          0.898039  \n",
      "FUELCONSUMPTION_COMB          0.892129  \n",
      "ENGINESIZE                    0.874154  \n",
      "FUELCONSUMPTION_HWY           0.861748  \n",
      "CYLINDERS                     0.849685  \n",
      "FUELCONSUMPTION_COMB_MPG     -0.906394  \n",
      "MODELYEAR                          NaN  \n"
     ]
    },
    {
     "data": {
      "text/plain": [
       "'\\nVariável mais correlacionada:\\n\\nFUELCONSUMPTION_CITY\\n'"
      ]
     },
     "execution_count": 1,
     "metadata": {},
     "output_type": "execute_result"
    }
   ],
   "source": [
    "import matplotlib.pyplot as plt\n",
    "import pandas as pd\n",
    "import numpy as np\n",
    "\n",
    "import sklearn.metrics\n",
    "from sklearn.linear_model import LinearRegression\n",
    "from sklearn.model_selection import train_test_split\n",
    "\n",
    "df = pd.read_csv(\"FuelConsumptionCo2.csv\")\n",
    "\n",
    "'''\n",
    "LETRA A\n",
    "'''\n",
    "\n",
    "for column in df.columns[0:-1]:\n",
    "    print(f\"Showing chart for {column}\")\n",
    "    plt.scatter(df[column], df[\"CO2EMISSIONS\"])\n",
    "    plt.show()\n",
    "\n",
    "'''\n",
    "LETRA B\n",
    "'''\n",
    "\n",
    "corr_matrix = df.corr().sort_values(by=['CO2EMISSIONS'], ascending=False)\n",
    "print(corr_matrix)\n",
    "\n",
    "\n",
    "'''\n",
    "Variável mais correlacionada:\n",
    "\n",
    "FUELCONSUMPTION_CITY\n",
    "'''"
   ]
  },
  {
   "cell_type": "markdown",
   "metadata": {
    "id": "uNiyrNQBdFZZ"
   },
   "source": [
    "**Realize a regressão linear simples com a variável selecionada no passo anterior. Use o pacote sklearn.**\n",
    "- Separe os dados em treino e teste\n",
    "- Ajuste o modelo no treino\n",
    "- Imprima as métricas R2 score e a média dos resíduos ao quadrado (MSE) em ambos o treino e o teste."
   ]
  },
  {
   "cell_type": "code",
   "execution_count": null,
   "metadata": {
    "id": "x8iF0r03dqja"
   },
   "outputs": [],
   "source": [
    "'''\n",
    "LETRA C\n",
    "'''\n",
    "\n",
    "# Ordenando de acordo com a variável\n",
    "df = df.sort_values(by=\"FUELCONSUMPTION_CITY\")\n",
    "\n",
    "# 95% Pra treino e 5% pra teste\n",
    "PERCENTAGE_TRAIN_DATA = 0.95\n",
    "\n",
    "x_train, x_test = train_test_split(df[\"FUELCONSUMPTION_CITY\"], train_size=PERCENTAGE_TRAIN_DATA, shuffle=False)\n",
    "y_train, y_test = train_test_split(df[\"CO2EMISSIONS\"], train_size=PERCENTAGE_TRAIN_DATA, shuffle=False)\n",
    "\n",
    "x_train = x_train.to_numpy().reshape(-1, 1)\n",
    "x_test  = x_test.to_numpy().reshape(-1, 1)\n",
    "y_train = y_train.to_numpy().reshape(-1, 1)\n",
    "y_test  = y_test.to_numpy().reshape(-1, 1)\n",
    "\n",
    "# Fazendo a predicao utilizando train_x e train_y\n",
    "reg = LinearRegression().fit(x_train, y_train)\n",
    "\n",
    "# Passando test_x para o modelo de regressao linear\n",
    "prediction_test = reg.predict(x_test)\n",
    "prediction_training = reg.predict(x_train)\n",
    "\n",
    "r2_score_training = sklearn.metrics.r2_score(y_train, prediction_training)\n",
    "print(f\"R2 score in training = {r2_score_training}\")\n",
    "\n",
    "mse_score_training = sklearn.metrics.mean_squared_error(y_train, prediction_training)\n",
    "print(f\"MSE score in training = {mse_score_training}\")\n",
    "\n",
    "r2_score_testing = sklearn.metrics.r2_score(y_test, prediction_test)\n",
    "print(f\"R2 score in testing = {r2_score_testing}\")\n",
    "\n",
    "mse_score_testing = sklearn.metrics.mean_squared_error(y_test, prediction_test)\n",
    "print(f\"MSE score in testing = {mse_score_testing}\")\n",
    "\n",
    "# Montando o grafico\n",
    "plt.scatter(x_train, y_train, c=\"orange\", label = \"Training Data\")\n",
    "plt.scatter(x_test, y_test, c=\"green\", label=\"Test data\")\n",
    "plt.plot(x_test, prediction_test, c=\"red\", label=\"Prediction\")\n",
    "plt.plot(x_train, prediction_training, c=\"blue\", label=\"Train\")\n",
    "plt.legend()\n",
    "plt.show()"
   ]
  },
  {
   "cell_type": "markdown",
   "metadata": {
    "id": "5UrBQ0PGepik"
   },
   "source": [
    "**Plot o modelo resultante de seu treinamento**"
   ]
  },
  {
   "cell_type": "code",
   "execution_count": null,
   "metadata": {
    "id": "eyxgKj4cep3K"
   },
   "outputs": [],
   "source": [
    "## plot o scatter da variável escolhida vs CO2\n",
    "## plot o modelo (exemplo a seguir) \n",
    "##### plt.plot(train_x, reg_model.coef_[0][0]*train_x + reg_model.intercept_[0], '-r')"
   ]
  },
  {
   "cell_type": "markdown",
   "metadata": {
    "id": "VIiGxO8Qgsad"
   },
   "source": [
    "## Q2. Regressão polinomial\n",
    "\n",
    "Para dados que não são linearmente separados, modelos polinomiais podem oferecer complexidade mais adequada. \n",
    "\n",
    "A função PolynomialFeatures() na biblioteca Scikit-learn pode nos ajudar nessa tarefa, já que ela gera uma matriz composta pelas combinações polinomiais das características do atributo. Por exemplo, digamos que o conjunto original tenha apenas um recurso, `ENGINESIZE`. Agora, se selecionarmos o grau do polinômio como 2, ele gerará 3 recursos, grau=0, grau=1 e grau=2.\n",
    "\n",
    "**Realize a regressão polinomial a partir de `ENGINESIZE`**\n",
    "- Extraia combinações polinomiais do atributo (experimente pelo menos dois diferentes graus de polinômio) \n",
    "- Alimente as características polimomias ao modelo de Regressão Linear\n",
    "\n",
    "> Lembre-se de treinar em um conjunto e testar em outro. Meça a qualidade dos modelos produzidos em cada experimento. **Qual deles produziu a melhor resultado de teste?**"
   ]
  },
  {
   "cell_type": "code",
   "execution_count": null,
   "metadata": {},
   "outputs": [],
   "source": [
    "import matplotlib.pyplot as plt\n",
    "import pandas as pd\n",
    "import numpy as np\n",
    "\n",
    "import sklearn.metrics\n",
    "from sklearn.linear_model import LinearRegression\n",
    "from sklearn.model_selection import train_test_split\n",
    "from sklearn.preprocessing import PolynomialFeatures\n",
    "\n",
    "df = pd.read_csv(\"FuelConsumptionCo2.csv\")\n",
    "\n",
    "# Ordenando de acordo com a variável\n",
    "df = df.sort_values(by=\"ENGINESIZE\")\n",
    "\n",
    "# 95% Pra treino e 5% para teste\n",
    "PERCENTAGE_TRAIN_DATA = 0.95\n",
    "\n",
    "x_train, x_test = train_test_split(df[\"ENGINESIZE\"], train_size=PERCENTAGE_TRAIN_DATA, shuffle=False)\n",
    "y_train, y_test = train_test_split(df[\"CO2EMISSIONS\"], train_size=PERCENTAGE_TRAIN_DATA, shuffle=False)\n",
    "\n",
    "x_train = x_train.to_numpy().reshape(-1, 1)\n",
    "x_test  = x_test.to_numpy().reshape(-1, 1)\n",
    "y_train = y_train.to_numpy().reshape(-1, 1)\n",
    "y_test  = y_test.to_numpy().reshape(-1, 1)\n",
    "\n",
    "'''\n",
    "Teste mock sem utilizar PolynomialFeatures só pra ver o acerto do modelo de regressao linear normal\n",
    "'''\n",
    "\n",
    "reg = LinearRegression().fit(x_train, y_train)\n",
    "\n",
    "prediction = reg.predict(x_test)\n",
    "\n",
    "print(\"Métricas da regressao linear normal:\")\n",
    "\n",
    "my_r2_score = sklearn.metrics.r2_score(y_test, prediction)\n",
    "print(f\"R2 score utilizando só o modelo de regressão = {my_r2_score}\")\n",
    "\n",
    "my_mse_score = sklearn.metrics.mean_squared_error(y_test, prediction)\n",
    "print(f\"MSE score utilizando só o modelo de regressão = {my_mse_score}\")\n",
    "\n",
    "print(\"\\n\")\n",
    "\n",
    "# Plotting chart\n",
    "plt.scatter(x_train, y_train, c=\"orange\", label = \"Training Data\")\n",
    "plt.scatter(x_test, y_test, c=\"green\", label=\"Test data\")\n",
    "plt.plot(x_test, prediction, c=\"red\", label=\"Prediction\")\n",
    "plt.plot(x_train, reg.predict(x_train), c=\"blue\", label=\"Train\")\n",
    "plt.legend()\n",
    "plt.show()\n",
    "\n",
    "'''\n",
    "Primeiro teste com PolynomialFeatures\n",
    "'''\n",
    "\n",
    "# Utilizando grau = 2 para o primeiro teste\n",
    "degree1 = 2\n",
    "\n",
    "poly = PolynomialFeatures(degree=degree1)\n",
    "\n",
    "x_train_poly = poly.fit_transform(x_train)\n",
    "x_test_poly = poly.transform(x_test)\n",
    "\n",
    "# Fazendo a predicao utilizando x_train e y_train\n",
    "reg = LinearRegression().fit(x_train_poly, y_train)\n",
    "\n",
    "# Passando x_test para o modelo de regressao linear\n",
    "prediction = reg.predict(x_test_poly)\n",
    "\n",
    "print(f\"Métricas utilizando degree = {degree1}:\")\n",
    "\n",
    "my_r2_score = sklearn.metrics.r2_score(y_test, prediction)\n",
    "print(f\"R2 score com grau {degree1} = {my_r2_score}\")\n",
    "\n",
    "my_mse_score = sklearn.metrics.mean_squared_error(y_test, prediction)\n",
    "print(f\"MSE score com grau {degree1} = {my_mse_score}\")\n",
    "\n",
    "print(\"\\n\")\n",
    "\n",
    "# Plotting chart\n",
    "plt.scatter(x_train, y_train, c=\"orange\", label = \"Training Data\")\n",
    "plt.scatter(x_test, y_test, c=\"green\", label=\"Test data\")\n",
    "plt.plot(x_test, prediction, c=\"red\", label=\"Prediction\")\n",
    "plt.plot(x_train, reg.predict(x_train_poly), c=\"blue\", label=\"Train\")\n",
    "plt.legend()\n",
    "plt.show()\n",
    "\n",
    "'''\n",
    "Teste 2\n",
    "'''\n",
    "\n",
    "# Utilizando grau = 3 para o proximo teste\n",
    "degree2 = 3\n",
    "\n",
    "poly = PolynomialFeatures(degree2)\n",
    "x_train_poly = poly.fit_transform(x_train)\n",
    "x_test_poly  = poly.transform(x_test)\n",
    "\n",
    "# Fazendo a predicao utilizando x_train e y_train\n",
    "reg = LinearRegression().fit(x_train_poly, y_train)\n",
    "\n",
    "# Passando x_test para o modelo de regressao linear\n",
    "prediction = reg.predict(x_test_poly)\n",
    "\n",
    "print(f\"Métricas utilizando degree = {degree2}:\")\n",
    "\n",
    "my_r2_score = sklearn.metrics.r2_score(y_test, prediction)\n",
    "print(f\"R2 score com grau {degree2} = {my_r2_score}\")\n",
    "\n",
    "my_mse_score = sklearn.metrics.mean_squared_error(y_test, prediction)\n",
    "print(f\"MSE score com grau {degree2} = {my_mse_score}\")\n",
    "\n",
    "print(\"\\n\")\n",
    "\n",
    "# Plotting chart\n",
    "plt.scatter(x_train, y_train, c=\"orange\", label = \"Training Data\")\n",
    "plt.scatter(x_test, y_test, c=\"green\", label=\"Test data\")\n",
    "plt.plot(x_test, prediction, c=\"red\", label=\"Prediction\")\n",
    "plt.plot(x_train, reg.predict(x_train_poly), c=\"blue\", label=\"Train\")\n",
    "plt.legend()\n",
    "plt.show()\n",
    "\n",
    "'''\n",
    "Teste 3\n",
    "'''\n",
    "\n",
    "# Utilizando grau = 4 para o proximo teste\n",
    "degree3 = 4\n",
    "\n",
    "poly = PolynomialFeatures(degree3)\n",
    "x_train_poly = poly.fit_transform(x_train)\n",
    "x_test_poly  = poly.transform(x_test)\n",
    "\n",
    "# Fazendo a predicao utilizando x_train e y_train\n",
    "reg = LinearRegression().fit(x_train_poly, y_train)\n",
    "\n",
    "# Passando x_test para o modelo de regressao linear\n",
    "prediction = reg.predict(x_test_poly)\n",
    "\n",
    "print(f\"Métricas utilizando degree = {degree3}:\")\n",
    "\n",
    "my_r2_score = sklearn.metrics.r2_score(y_test, prediction)\n",
    "print(f\"R2 score com grau {degree3} = {my_r2_score}\")\n",
    "\n",
    "my_mse_score = sklearn.metrics.mean_squared_error(y_test, prediction)\n",
    "print(f\"MSE score com grau {degree3} = {my_mse_score}\")\n",
    "\n",
    "# Plotting chart\n",
    "plt.scatter(x_train, y_train, c=\"orange\", label = \"Training Data\")\n",
    "plt.scatter(x_test, y_test, c=\"green\", label=\"Test data\")\n",
    "plt.plot(x_test, prediction, c=\"red\", label=\"Prediction\")\n",
    "plt.plot(x_train, reg.predict(x_train_poly), c=\"blue\", label=\"Train\")\n",
    "plt.legend()\n",
    "plt.show()\n",
    "\n",
    "'''\n",
    "A princípio o modelo parece não ter melhorado muito após o pré-processamento feito com PolynomialFeatures.\n",
    "O r2_score e o MSE mudaram um pouco, mas ainda estão longe de valores bons.\n",
    "\n",
    "A minha hipótese é que talvez seja o formato da distribuição dos dados em ENGINESIZE que esteja causando isso, porque os dados estão MUITO mais \n",
    "espalhados do que em outras variáveis do dataframe, o que indica que o número de outliers em ENGINESIZE deve ser muito alto. \n",
    "Ao meu ver, o resultado ruim não é uma fraqueza do modelo ou do pré-processamento, mas da variável ENGINESIZE que é uma péssima candidata para ser prevista, porque os dados\n",
    "nela estão muito espalhados para fazer uma previsão precisa utilizando esses modelos :P\n",
    "'''\n"
   ]
  },
  {
   "cell_type": "markdown",
   "metadata": {
    "id": "So_vkEWIeSbZ"
   },
   "source": [
    "## Q3. Regressão multivariada\n",
    "\n",
    "Na realidade, existem múltiplas variáveis que impactam a emissão de co2. Quando mais de uma variável independente está presente, o processo é chamado de regressão linear múltipla. Um exemplo de regressão linear múltipla é prever a emissão de co2 usando os recursos `FUELCONSUMPTION_COMB`, `ENGINESIZE` e `CYLINDERS`. O bom aqui é que o modelo de regressão linear múltipla é a extensão do modelo de regressão linear simples.\n",
    "\n",
    "**Realize a regressão multivariada com as seguintes variáveis**\n",
    "- As três mencionadas no enunciado\n",
    "- Substitua `FUELCONSUMPTION_COMB` por `FUELCONSUMPTION_CITY` e `FUELCONSUMPTION_HWY` \n",
    "\n",
    "> Lembre-se de treinar em um conjunto e testar em outro. Lembre-se que para cada experimento deve-se medir a qualidade dos modelos. Aproveite e reflita sobre o que pode ter afetado as diferenças na acurácia."
   ]
  },
  {
   "cell_type": "code",
   "execution_count": null,
   "metadata": {
    "id": "-x0BSunceSQN"
   },
   "outputs": [],
   "source": [
    "import matplotlib.pyplot as plt\n",
    "import pandas as pd\n",
    "import numpy as np\n",
    "\n",
    "import sklearn.metrics\n",
    "from sklearn.linear_model import LinearRegression\n",
    "from sklearn.model_selection import train_test_split\n",
    "from sklearn.preprocessing import PolynomialFeatures\n",
    "\n",
    "df = pd.read_csv(\"FuelConsumptionCo2.csv\")\n",
    "\n",
    "'''\n",
    "LETRA A\n",
    "'''\n",
    "\n",
    "# Para ficar mais fácil de visualizar as relações entre as variáveis\n",
    "'''\n",
    "plt.scatter(df['FUELCONSUMPTION_COMB'], df['ENGINESIZE'], color='red')\n",
    "plt.title('FUELCONSUMPTION_COMB Vs ENGINESIZE', fontsize=14)\n",
    "plt.xlabel('ENGINESIZE', fontsize=14)\n",
    "plt.ylabel('FUELCONSUMPTION_COMB', fontsize=14)\n",
    "plt.grid(True)\n",
    "plt.show()\n",
    "\n",
    "\n",
    "plt.scatter(df['FUELCONSUMPTION_COMB'], df['CYLINDERS'], color='red')\n",
    "plt.title('FUELCONSUMPTION_COMB Vs CYLINDERS', fontsize=14)\n",
    "plt.xlabel('CYLINDERS', fontsize=14)\n",
    "plt.ylabel('FUELCONSUMPTION_COMB', fontsize=14)\n",
    "plt.grid(True)\n",
    "plt.show()\n",
    "\n",
    "\n",
    "plt.scatter(df['CYLINDERS'], df['ENGINESIZE'], color='red')\n",
    "plt.title('CYLINDERS Vs ENGINESIZE', fontsize=14)\n",
    "plt.xlabel('ENGINESIZE', fontsize=14)\n",
    "plt.ylabel('CYLINDERS', fontsize=14)\n",
    "plt.grid(True)\n",
    "plt.show()\n",
    "'''\n",
    "\n",
    "# 95% Pra treino e 5% para teste\n",
    "PERCENTAGE_TRAIN_DATA = 0.95\n",
    "\n",
    "x_train, x_test = train_test_split(df[['FUELCONSUMPTION_COMB', 'ENGINESIZE', 'CYLINDERS']], train_size=PERCENTAGE_TRAIN_DATA, shuffle=False)\n",
    "y_train, y_test = train_test_split(df[\"CO2EMISSIONS\"], train_size=PERCENTAGE_TRAIN_DATA, shuffle=False)\n",
    "\n",
    "reg = LinearRegression()\n",
    "reg.fit(x_train, y_train)\n",
    "\n",
    "prediction = reg.predict(x_test)\n",
    "\n",
    "print(\"Métricas para predição com FUELCONSUMPTION_COMB, ENGINESIZE e CYLINDERS:\")\n",
    "my_r2_score = sklearn.metrics.r2_score(y_test, prediction)\n",
    "print(f\"R2 score = {my_r2_score}\")\n",
    "\n",
    "my_mse_score = sklearn.metrics.mean_squared_error(y_test, prediction)\n",
    "print(f\"MSE score = {my_mse_score}\")\n",
    "\n",
    "print(\"\\n\")\n",
    "\n",
    "'''\n",
    "LETRA B\n",
    "'''\n",
    "\n",
    "# Mais mapas para mostrar a relação entre as variáveis. FUELCONSUMPTION_CITY parece ser bem mais \n",
    "# correlatado a FUELCONSUMPTION_COMB do que FUELCONSUMPTION_HWY\n",
    "'''\n",
    "plt.scatter(df['FUELCONSUMPTION_CITY'], df['FUELCONSUMPTION_COMB'], color='red')\n",
    "plt.title('FUELCONSUMPTION_CITY Vs FUELCONSUMPTION_COMB', fontsize=14)\n",
    "plt.xlabel('FUELCONSUMPTION_COMB', fontsize=14)\n",
    "plt.ylabel('FUELCONSUMPTION_CITY', fontsize=14)\n",
    "plt.grid(True)\n",
    "plt.show()\n",
    "\n",
    "\n",
    "plt.scatter(df['FUELCONSUMPTION_HWY'], df['FUELCONSUMPTION_COMB'], color='red')\n",
    "plt.title('FUELCONSUMPTION_HWY Vs FUELCONSUMPTION_COMB', fontsize=14)\n",
    "plt.xlabel('FUELCONSUMPTION_COMB', fontsize=14)\n",
    "plt.ylabel('FUELCONSUMPTION_HWY', fontsize=14)\n",
    "plt.grid(True)\n",
    "plt.show()\n",
    "'''\n",
    "\n",
    "# 95% Pra treino e 5% para teste\n",
    "PERCENTAGE_TRAIN_DATA = 0.95\n",
    "\n",
    "x_train, x_test = train_test_split(df[['FUELCONSUMPTION_CITY', 'FUELCONSUMPTION_HWY', 'ENGINESIZE', 'CYLINDERS']], train_size=PERCENTAGE_TRAIN_DATA, shuffle=False)\n",
    "y_train, y_test = train_test_split(df[\"CO2EMISSIONS\"], train_size=PERCENTAGE_TRAIN_DATA, shuffle=False)\n",
    "\n",
    "reg = LinearRegression()\n",
    "reg.fit(x_train, y_train)\n",
    "\n",
    "prediction = reg.predict(x_test)\n",
    "\n",
    "print(\"Métricas para predição com FUELCONSUMPTION_CITY, FUELCONSUMPTION_HWY, ENGINESIZE e CYLINDERS:\")\n",
    "\n",
    "my_r2_score = sklearn.metrics.r2_score(y_test, prediction)\n",
    "print(f\"R2 score = {my_r2_score}\")\n",
    "\n",
    "my_mse_score = sklearn.metrics.mean_squared_error(y_test, prediction)\n",
    "print(f\"MSE score = {my_mse_score}\")\n",
    "\n",
    "'''\n",
    "A acurácia do modelo era boa antes da separação, e após a separação continuou bem parecida. \n",
    "Isso se deve pela variável FUELCONSUMPTION_COMB ser uma combinacao de FUELCONSUMPTION_CITY e FUELCONSUMPTION_HWY, e é\n",
    "possível ver isso nas imagens da parte de cima que mostram as comparações entre elas. São quase que linhas retas porque são\n",
    "bem relacionadas, então na realidade trocar FUELCONSUMPTION_COMB por FUELCONSUMPTION_CITY e FUELCONSUMPTION_HWY dá quase\n",
    "que na mesma coisa :P\n",
    "'''"
   ]
  }
 ],
 "metadata": {
  "colab": {
   "name": "Exercício: Regressão.ipynb",
   "provenance": []
  },
  "kernelspec": {
   "display_name": "Python 3 (ipykernel)",
   "language": "python",
   "name": "python3"
  },
  "language_info": {
   "codemirror_mode": {
    "name": "ipython",
    "version": 3
   },
   "file_extension": ".py",
   "mimetype": "text/x-python",
   "name": "python",
   "nbconvert_exporter": "python",
   "pygments_lexer": "ipython3",
   "version": "3.10.4"
  }
 },
 "nbformat": 4,
 "nbformat_minor": 1
}
